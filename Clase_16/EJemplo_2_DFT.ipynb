{
 "cells": [
  {
   "attachments": {},
   "cell_type": "markdown",
   "metadata": {},
   "source": [
    "# Ejemplo 2. DFT e IDTF para Calcular la Respuesta de un Filtro FIR."
   ]
  },
  {
   "cell_type": "code",
   "execution_count": 1,
   "metadata": {},
   "outputs": [],
   "source": [
    "import numpy as np\n",
    "from numpy import pi"
   ]
  },
  {
   "cell_type": "code",
   "execution_count": 2,
   "metadata": {},
   "outputs": [],
   "source": [
    "h = [1, 2, 3]\n",
    "M = len(h)\n",
    "x = [1, 2, 2, 1]\n",
    "L = len(x)"
   ]
  },
  {
   "cell_type": "code",
   "execution_count": 3,
   "metadata": {},
   "outputs": [],
   "source": [
    "def N_adecuado(M, L):\n",
    "    N = M + L - 1\n",
    "    for i in range(1000):\n",
    "        if 2**i >= N:\n",
    "            N = 2**i\n",
    "            return N\n",
    "    return 0"
   ]
  },
  {
   "cell_type": "code",
   "execution_count": 4,
   "metadata": {},
   "outputs": [
    {
     "name": "stdout",
     "output_type": "stream",
     "text": [
      "El N adecuado es: 8\n"
     ]
    }
   ],
   "source": [
    "N = N_adecuado(M, L)\n",
    "print('El N adecuado es:', N)"
   ]
  },
  {
   "cell_type": "code",
   "execution_count": 5,
   "metadata": {},
   "outputs": [],
   "source": [
    "def DFT(x, N):\n",
    "    X = []\n",
    "    for k in range(N):\n",
    "        sum = 0\n",
    "        for n in range(len(x)):\n",
    "            sum += x[n]*np.exp(-1j*2*pi*k*n/N)\n",
    "        X.append(sum)\n",
    "    return np.array(X, 'complex_')"
   ]
  },
  {
   "cell_type": "code",
   "execution_count": 6,
   "metadata": {},
   "outputs": [
    {
     "data": {
      "text/plain": [
       "array([ 6.        +0.00000000e+00j,  1.70710678-4.12132034e+00j,\n",
       "       -1.        -1.00000000e+00j,  0.29289322-1.21320344e-01j,\n",
       "        0.        -1.22464680e-16j,  0.29289322+1.21320344e-01j,\n",
       "       -1.        +1.00000000e+00j,  1.70710678+4.12132034e+00j])"
      ]
     },
     "execution_count": 6,
     "metadata": {},
     "output_type": "execute_result"
    }
   ],
   "source": [
    "X = DFT(x, N)\n",
    "X"
   ]
  },
  {
   "cell_type": "code",
   "execution_count": 7,
   "metadata": {},
   "outputs": [
    {
     "data": {
      "text/plain": [
       "array([ 6.        +0.00000000e+00j,  2.41421356-4.41421356e+00j,\n",
       "       -2.        -2.00000000e+00j, -0.41421356+1.58578644e+00j,\n",
       "        2.        +4.89858720e-16j, -0.41421356-1.58578644e+00j,\n",
       "       -2.        +2.00000000e+00j,  2.41421356+4.41421356e+00j])"
      ]
     },
     "execution_count": 7,
     "metadata": {},
     "output_type": "execute_result"
    }
   ],
   "source": [
    "H = DFT(h, N)\n",
    "H"
   ]
  },
  {
   "cell_type": "code",
   "execution_count": 8,
   "metadata": {},
   "outputs": [
    {
     "data": {
      "text/plain": [
       "array([ 3.60000000e+01+0.00000000e+00j, -1.40710678e+01-1.74852814e+01j,\n",
       "       -1.55431223e-15+4.00000000e+00j,  7.10678119e-02+5.14718626e-01j,\n",
       "        5.99903913e-32-2.44929360e-16j,  7.10678119e-02-5.14718626e-01j,\n",
       "        2.44249065e-15-4.00000000e+00j, -1.40710678e+01+1.74852814e+01j])"
      ]
     },
     "execution_count": 8,
     "metadata": {},
     "output_type": "execute_result"
    }
   ],
   "source": [
    "Y = X*H\n",
    "Y"
   ]
  },
  {
   "cell_type": "code",
   "execution_count": 9,
   "metadata": {},
   "outputs": [],
   "source": [
    "def IDFT(X, N):\n",
    "    x = []\n",
    "    for n in range(N):\n",
    "        sum = 0\n",
    "        for k in range(len(X)):\n",
    "            sum += X[k]*np.exp(1j*2*pi*k*n/N)\n",
    "        x.append(sum/N)\n",
    "    return np.array(x, 'complex_')"
   ]
  },
  {
   "cell_type": "code",
   "execution_count": 10,
   "metadata": {},
   "outputs": [
    {
     "data": {
      "text/plain": [
       "array([1.00000000e+00-8.88178420e-16j, 4.00000000e+00+0.00000000e+00j,\n",
       "       9.00000000e+00-6.66133815e-16j, 1.10000000e+01+2.16493490e-15j,\n",
       "       8.00000000e+00+4.44089210e-16j, 3.00000000e+00+2.22044605e-15j,\n",
       "       3.10862447e-15-1.77635684e-15j, 8.88178420e-16+1.12687637e-14j])"
      ]
     },
     "execution_count": 10,
     "metadata": {},
     "output_type": "execute_result"
    }
   ],
   "source": [
    "y = IDFT(Y, N)\n",
    "y"
   ]
  }
 ],
 "metadata": {
  "kernelspec": {
   "display_name": "Python 3",
   "language": "python",
   "name": "python3"
  },
  "language_info": {
   "codemirror_mode": {
    "name": "ipython",
    "version": 3
   },
   "file_extension": ".py",
   "mimetype": "text/x-python",
   "name": "python",
   "nbconvert_exporter": "python",
   "pygments_lexer": "ipython3",
   "version": "3.10.4"
  },
  "orig_nbformat": 4,
  "vscode": {
   "interpreter": {
    "hash": "3ad933181bd8a04b432d3370b9dc3b0662ad032c4dfaa4e4f1596c548f763858"
   }
  }
 },
 "nbformat": 4,
 "nbformat_minor": 2
}
