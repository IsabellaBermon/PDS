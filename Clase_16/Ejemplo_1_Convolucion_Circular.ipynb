{
 "cells": [
  {
   "attachments": {},
   "cell_type": "markdown",
   "metadata": {},
   "source": [
    "# Ejemplo 1. Convolución Circular."
   ]
  },
  {
   "cell_type": "code",
   "execution_count": 1,
   "metadata": {},
   "outputs": [],
   "source": [
    "import numpy as np\n",
    "import matplotlib.pyplot as plt\n",
    "from numpy import pi"
   ]
  },
  {
   "attachments": {},
   "cell_type": "markdown",
   "metadata": {},
   "source": [
    "Suponga las señales f(n) = [8 2] y x(n) = [3 7 7 9]"
   ]
  },
  {
   "cell_type": "code",
   "execution_count": 2,
   "metadata": {},
   "outputs": [],
   "source": [
    "x = [3, 7, 7, 9]\n",
    "h = [2, 8, 0, 0]"
   ]
  },
  {
   "cell_type": "code",
   "execution_count": 3,
   "metadata": {},
   "outputs": [],
   "source": [
    "def conv_circ(h, x):\n",
    "    # Este es el algoritmo de la convolución circular\n",
    "    # explicado en su respectiva clase.\n",
    "    N = len(h)\n",
    "    if (N != len(x)):\n",
    "        return print('Error. Las dimesiones deben ser las mismas.')\n",
    "    h2 = [h[0]]\n",
    "    for i in range(N-1):\n",
    "        h2.append(h[N-1-i])\n",
    "\n",
    "    arr  = []\n",
    "    for j in range(N):\n",
    "        sum = 0\n",
    "        for k in range(N):\n",
    "            sum += x[k]*h2[k]\n",
    "        arr.append(sum)\n",
    "        aux = h2[0]\n",
    "        for m in range(N-1):\n",
    "            h2[m] = h2[m+1]\n",
    "        h2[N-1] = aux\n",
    "    result = [arr[0]]\n",
    "    for q in np.arange(-(N-1), 0):\n",
    "        result.append(arr[-q])\n",
    "    return result\n"
   ]
  },
  {
   "cell_type": "code",
   "execution_count": 4,
   "metadata": {},
   "outputs": [
    {
     "data": {
      "text/plain": [
       "[78, 38, 70, 74]"
      ]
     },
     "execution_count": 4,
     "metadata": {},
     "output_type": "execute_result"
    }
   ],
   "source": [
    "conv_circ(h, x)"
   ]
  }
 ],
 "metadata": {
  "kernelspec": {
   "display_name": "Python 3",
   "language": "python",
   "name": "python3"
  },
  "language_info": {
   "codemirror_mode": {
    "name": "ipython",
    "version": 3
   },
   "file_extension": ".py",
   "mimetype": "text/x-python",
   "name": "python",
   "nbconvert_exporter": "python",
   "pygments_lexer": "ipython3",
   "version": "3.10.4"
  },
  "orig_nbformat": 4,
  "vscode": {
   "interpreter": {
    "hash": "3ad933181bd8a04b432d3370b9dc3b0662ad032c4dfaa4e4f1596c548f763858"
   }
  }
 },
 "nbformat": 4,
 "nbformat_minor": 2
}
