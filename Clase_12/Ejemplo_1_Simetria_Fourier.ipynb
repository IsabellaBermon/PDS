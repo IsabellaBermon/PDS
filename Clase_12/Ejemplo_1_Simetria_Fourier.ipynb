{
 "cells": [
  {
   "cell_type": "markdown",
   "id": "41ec651c",
   "metadata": {},
   "source": [
    "# Ejemplo 1. Propiedades de Simetría de la Transformada de Fourier."
   ]
  },
  {
   "cell_type": "code",
   "execution_count": 1,
   "id": "f9ae5f1c",
   "metadata": {},
   "outputs": [],
   "source": [
    "import numpy as np\n",
    "import matplotlib.pyplot as plt\n",
    "from sympy import *"
   ]
  },
  {
   "cell_type": "code",
   "execution_count": 2,
   "id": "a3c6faac",
   "metadata": {},
   "outputs": [],
   "source": [
    "x1 = [6, 9, 3, 6, 3, 9, 6]\n",
    "zero = 3"
   ]
  },
  {
   "cell_type": "code",
   "execution_count": 3,
   "id": "a2b4d089",
   "metadata": {},
   "outputs": [],
   "source": [
    "def calc_trans(arr, zero):\n",
    "    # Calcula la transformada de Fourier por la forma general.\n",
    "    # la variable 'zero' es la posición donde está el cero de la secuencia.\n",
    "    w = Symbol('w')\n",
    "    X = 0\n",
    "    for n in np.arange(-len(arr)//2+1, len(arr)//2+1):\n",
    "        X += arr[zero+n]*exp(-1j*n*w)\n",
    "    return X"
   ]
  },
  {
   "cell_type": "code",
   "execution_count": 4,
   "id": "6c87d9d8",
   "metadata": {},
   "outputs": [],
   "source": [
    "X = calc_trans(x1, zero)"
   ]
  },
  {
   "cell_type": "code",
   "execution_count": 5,
   "id": "8e6109c8",
   "metadata": {},
   "outputs": [
    {
     "data": {
      "text/latex": [
       "$\\displaystyle 3 e^{1.0 i w} + 9 e^{2.0 i w} + 6 e^{3.0 i w} + 6 + 6 e^{- 3.0 i w} + 9 e^{- 2.0 i w} + 3 e^{- 1.0 i w}$"
      ],
      "text/plain": [
       "3*exp(1.0*I*w) + 9*exp(2.0*I*w) + 6*exp(3.0*I*w) + 6 + 6*exp(-3.0*I*w) + 9*exp(-2.0*I*w) + 3*exp(-1.0*I*w)"
      ]
     },
     "execution_count": 5,
     "metadata": {},
     "output_type": "execute_result"
    }
   ],
   "source": [
    "X"
   ]
  },
  {
   "cell_type": "markdown",
   "id": "b5fc195c",
   "metadata": {},
   "source": [
    "$6+6cos(\\omega n)+18cos(2\\omega n)+12cos(3\\omega n)$"
   ]
  },
  {
   "cell_type": "markdown",
   "id": "c63357c1",
   "metadata": {},
   "source": [
    "Se va a proceder a hacer la transformada por la ecución de simetría; se puede ver que la secuencia es par, por lo tanto se usa la formula para secuencias pares y se debe llegar al mismo resultado anterior."
   ]
  },
  {
   "cell_type": "code",
   "execution_count": 6,
   "id": "39b258ae",
   "metadata": {},
   "outputs": [],
   "source": [
    "X_simetria = x1[zero]"
   ]
  },
  {
   "cell_type": "code",
   "execution_count": 7,
   "id": "5e98df2f",
   "metadata": {},
   "outputs": [],
   "source": [
    "w = Symbol('w')\n",
    "for n in range(1, len(x1)//2+1):\n",
    "    X_simetria += 2*x1[zero+n]*cos(w*n)"
   ]
  },
  {
   "cell_type": "code",
   "execution_count": 8,
   "id": "fc911109",
   "metadata": {},
   "outputs": [
    {
     "data": {
      "text/latex": [
       "$\\displaystyle 6 \\cos{\\left(w \\right)} + 18 \\cos{\\left(2 w \\right)} + 12 \\cos{\\left(3 w \\right)} + 6$"
      ],
      "text/plain": [
       "6*cos(w) + 18*cos(2*w) + 12*cos(3*w) + 6"
      ]
     },
     "execution_count": 8,
     "metadata": {},
     "output_type": "execute_result"
    }
   ],
   "source": [
    "X_simetria"
   ]
  }
 ],
 "metadata": {
  "kernelspec": {
   "display_name": "Python 3 (ipykernel)",
   "language": "python",
   "name": "python3"
  },
  "language_info": {
   "codemirror_mode": {
    "name": "ipython",
    "version": 3
   },
   "file_extension": ".py",
   "mimetype": "text/x-python",
   "name": "python",
   "nbconvert_exporter": "python",
   "pygments_lexer": "ipython3",
   "version": "3.9.13"
  }
 },
 "nbformat": 4,
 "nbformat_minor": 5
}
