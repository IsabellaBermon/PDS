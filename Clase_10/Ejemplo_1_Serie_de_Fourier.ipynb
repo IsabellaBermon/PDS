{
 "cells": [
  {
   "cell_type": "code",
   "execution_count": 58,
   "metadata": {},
   "outputs": [],
   "source": [
    "# Importar las librerias necesarias\n",
    "import numpy as np\n",
    "import matplotlib.pyplot as plt"
   ]
  },
  {
   "attachments": {},
   "cell_type": "markdown",
   "metadata": {},
   "source": [
    "Solamente las señales que son periodicas se pueden expresar como una serie de Fourier."
   ]
  },
  {
   "cell_type": "code",
   "execution_count": 59,
   "metadata": {},
   "outputs": [],
   "source": [
    "def fourier_coef(x):\n",
    "    # Calcula los coeficientes de la serie de Fourier para una secuencia cualquiera\n",
    "    # de N terminos.\n",
    "    N = x.size\n",
    "    n = np.arange(N)\n",
    "    Ck = np.empty(N)\n",
    "    for k in np.arange(N):\n",
    "        aux = complex(0, 0)\n",
    "        for h in n:\n",
    "            aux += x[h]*np.exp(complex(0, -1)*2*np.pi*k*h/N)*(1/N)\n",
    "        Ck[k] = np.abs(aux)\n",
    "    print(Ck)\n",
    "    return Ck"
   ]
  },
  {
   "cell_type": "code",
   "execution_count": 60,
   "metadata": {},
   "outputs": [
    {
     "name": "stdout",
     "output_type": "stream",
     "text": [
      "[1.25000000e+00 4.71742791e-01 6.37377439e-01 2.99931224e-01\n",
      " 4.59242550e-17 2.99931224e-01 6.37377439e-01 4.71742791e-01]\n"
     ]
    }
   ],
   "source": [
    "x = np.array([1,1,0,2,4,1,0,1])\n",
    "Ck = fourier_coef(x)"
   ]
  },
  {
   "attachments": {},
   "cell_type": "markdown",
   "metadata": {},
   "source": [
    "### Relación de Parseval\n",
    "\n",
    "Primero se calcula la potencia usando $x(n)$."
   ]
  },
  {
   "cell_type": "code",
   "execution_count": 61,
   "metadata": {},
   "outputs": [
    {
     "name": "stdout",
     "output_type": "stream",
     "text": [
      "Potencia = 3.0 W\n"
     ]
    }
   ],
   "source": [
    "# Para poder usar la potencia de la forma, x**2, el arreglo debe ser de tipo numpy.array([])\n",
    "# para que no hayan problemas.\n",
    "pot1 = (1/len(x))*np.sum(x**2)\n",
    "print('Potencia =', pot1, 'W')"
   ]
  },
  {
   "attachments": {},
   "cell_type": "markdown",
   "metadata": {},
   "source": [
    "Luego se usand los coeficientes de la serie, $C_k$."
   ]
  },
  {
   "cell_type": "code",
   "execution_count": 62,
   "metadata": {},
   "outputs": [
    {
     "name": "stdout",
     "output_type": "stream",
     "text": [
      "Potencia = 2.9999999999999987 W\n"
     ]
    }
   ],
   "source": [
    "pot2 = np.sum(Ck**2)\n",
    "print('Potencia =', pot2, 'W')"
   ]
  },
  {
   "attachments": {},
   "cell_type": "markdown",
   "metadata": {},
   "source": [
    "Se verifica la relación de parceval y que los coeficientes de la serie fueron hallados correctamente."
   ]
  }
 ],
 "metadata": {
  "kernelspec": {
   "display_name": "Python 3",
   "language": "python",
   "name": "python3"
  },
  "language_info": {
   "codemirror_mode": {
    "name": "ipython",
    "version": 3
   },
   "file_extension": ".py",
   "mimetype": "text/x-python",
   "name": "python",
   "nbconvert_exporter": "python",
   "pygments_lexer": "ipython3",
   "version": "3.10.4 (main, Nov 29 2022, 20:00:25) [GCC 9.4.0]"
  },
  "orig_nbformat": 4,
  "vscode": {
   "interpreter": {
    "hash": "3ad933181bd8a04b432d3370b9dc3b0662ad032c4dfaa4e4f1596c548f763858"
   }
  }
 },
 "nbformat": 4,
 "nbformat_minor": 2
}
