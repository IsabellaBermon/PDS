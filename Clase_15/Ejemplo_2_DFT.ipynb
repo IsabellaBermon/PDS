{
 "cells": [
  {
   "cell_type": "code",
   "execution_count": 1,
   "id": "ae0e19da",
   "metadata": {},
   "outputs": [],
   "source": [
    "import numpy as np\n",
    "import matplotlib.pyplot as plt\n",
    "from numpy import pi\n",
    "import scipy.fftpack as fourier"
   ]
  },
  {
   "cell_type": "code",
   "execution_count": 2,
   "id": "ad889921",
   "metadata": {},
   "outputs": [],
   "source": [
    "x_n = [1, 2, 1, 0]"
   ]
  },
  {
   "cell_type": "code",
   "execution_count": 3,
   "id": "5e252a8c",
   "metadata": {},
   "outputs": [],
   "source": [
    "def DFT(x_n):\n",
    "    N = len(x_n)\n",
    "    senalF = np.zeros(N, 'complex_')\n",
    "    for k in np.arange(N):\n",
    "        aux = 0\n",
    "        for n in np.arange(N):\n",
    "            aux += x_n[n] * np.exp(-1j*2*pi*k*n/N) # Expresion para calcular la transformada\n",
    "        senalF[k] = aux\n",
    "    return senalF"
   ]
  },
  {
   "cell_type": "code",
   "execution_count": 4,
   "id": "4c96e1a9",
   "metadata": {},
   "outputs": [
    {
     "data": {
      "text/plain": [
       "array([ 4.00000000e+00+0.j,  2.22044605e-16-2.j,  0.00000000e+00+0.j,\n",
       "       -3.33066907e-16+2.j])"
      ]
     },
     "execution_count": 4,
     "metadata": {},
     "output_type": "execute_result"
    }
   ],
   "source": [
    "X = DFT(x_n)\n",
    "X"
   ]
  },
  {
   "cell_type": "markdown",
   "id": "8d955157",
   "metadata": {},
   "source": [
    "### $X(k)=[4, -2j, 0, +2j]$                  $k=0, 1, 2, 3$ "
   ]
  }
 ],
 "metadata": {
  "kernelspec": {
   "display_name": "Python 3 (ipykernel)",
   "language": "python",
   "name": "python3"
  },
  "language_info": {
   "codemirror_mode": {
    "name": "ipython",
    "version": 3
   },
   "file_extension": ".py",
   "mimetype": "text/x-python",
   "name": "python",
   "nbconvert_exporter": "python",
   "pygments_lexer": "ipython3",
   "version": "3.9.13"
  }
 },
 "nbformat": 4,
 "nbformat_minor": 5
}
